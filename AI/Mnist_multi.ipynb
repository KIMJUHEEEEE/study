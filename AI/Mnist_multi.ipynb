{
 "cells": [
  {
   "cell_type": "code",
   "execution_count": 1,
   "metadata": {},
   "outputs": [],
   "source": [
    "import numpy as np\n",
    "import pandas as pd\n",
    "from sklearn.ensemble import RandomForestClassifier\n",
    "from sklearn.ensemble import GradientBoostingClassifier\n",
    "from sklearn.neural_network import MLPClassifier\n",
    "from sklearn.metrics import accuracy_score\n",
    "from sklearn.model_selection import train_test_split"
   ]
  },
  {
   "cell_type": "code",
   "execution_count": 9,
   "metadata": {},
   "outputs": [],
   "source": [
    "\n",
    "train_df=pd.read_csv('mnist_train.csv')\n",
    "test_df = pd.read_csv('mnist_test.csv')\n",
    "\n",
    "train_data = train_df.values\n",
    "#8:2 -> train:test\n",
    "X_train,X_test,Y_train,Y_test = train_test_split(train_data[0:,1:],train_data[0:,0],test_size = 0.2,random_state=0)"
   ]
  },
  {
   "cell_type": "markdown",
   "metadata": {},
   "source": [
    "# RandomForestClassifier"
   ]
  },
  {
   "cell_type": "code",
   "execution_count": 10,
   "metadata": {},
   "outputs": [],
   "source": [
    "model1 = RandomForestClassifier(n_estimators=500)\n",
    "rdc=model1.fit(X_train,Y_train)\n",
    "output1 = rdc.predict(X_test)"
   ]
  },
  {
   "cell_type": "code",
   "execution_count": 11,
   "metadata": {},
   "outputs": [
    {
     "name": "stdout",
     "output_type": "stream",
     "text": [
      "RandomForest with m_estimators=500\n",
      "0.9689166666666666\n"
     ]
    }
   ],
   "source": [
    "print(\"RandomForest with m_estimators=500\")\n",
    "print(accuracy_score(Y_test,output1))"
   ]
  },
  {
   "cell_type": "code",
   "execution_count": 12,
   "metadata": {},
   "outputs": [
    {
     "name": "stdout",
     "output_type": "stream",
     "text": [
      "RandomForest with m_estimators=2000\n",
      "0.9701666666666666\n"
     ]
    }
   ],
   "source": [
    "model1 = RandomForestClassifier(n_estimators=2000)\n",
    "rdc=model1.fit(X_train,Y_train)\n",
    "output1 = rdc.predict(X_test)\n",
    "print(\"RandomForest with m_estimators=2000\")\n",
    "print(accuracy_score(Y_test,output1))"
   ]
  },
  {
   "cell_type": "code",
   "execution_count": 13,
   "metadata": {},
   "outputs": [
    {
     "name": "stdout",
     "output_type": "stream",
     "text": [
      "RandomForest with m_estimators=500\n",
      "0.9687968796879688\n"
     ]
    }
   ],
   "source": [
    "#1) test_df의 데이터로 predict\n",
    "model2 = RandomForestClassifier(n_estimators=500)\n",
    "rdc=model2.fit(X_train,Y_train)\n",
    "output2 = rdc.predict(test_df.values[0:,1:])\n",
    "print(\"RandomForest with m_estimators=500\")\n",
    "print(accuracy_score(test_df.values[0:,0],output2))"
   ]
  },
  {
   "cell_type": "code",
   "execution_count": 16,
   "metadata": {},
   "outputs": [
    {
     "name": "stdout",
     "output_type": "stream",
     "text": [
      "RandomForest with m_estimators=500\n",
      "0.9723972397239724\n"
     ]
    }
   ],
   "source": [
    "#2) 학습데이터는 train_df, 검증데이터는 test_df로 작업\n",
    "#train_test_split(train_df,test_df)\n",
    "train_df_x=train_data[0:,1:]\n",
    "train_df_y=train_data[0:,0]\n",
    "test_df_x=test_df.values[0:,1:]\n",
    "test_df_y=test_df.values[0:,0]\n",
    "model1 = RandomForestClassifier(n_estimators=500)\n",
    "rdc=model1.fit(train_df_x,train_df_y)\n",
    "output1=rdc.predict(test_df_x)\n",
    "print(\"RandomForest with m_estimators=500\")\n",
    "print(accuracy_score(test_df_y,output1))"
   ]
  },
  {
   "cell_type": "markdown",
   "metadata": {},
   "source": [
    "# GradientBoostingClassifier"
   ]
  },
  {
   "cell_type": "code",
   "execution_count": 14,
   "metadata": {},
   "outputs": [
    {
     "name": "stdout",
     "output_type": "stream",
     "text": [
      "GradientBoosting\n",
      "0.7559166666666667\n"
     ]
    }
   ],
   "source": [
    "#GradientBoostingClassifier\n",
    "model3 = GradientBoostingClassifier(n_estimators=10,learning_rate=0.3,max_depth=1,random_state=0)\n",
    "rdc=model3.fit(X_train,Y_train)\n",
    "output3 = rdc.predict(X_test)\n",
    "print(\"GradientBoosting\")\n",
    "print(accuracy_score(Y_test,output3))"
   ]
  },
  {
   "cell_type": "markdown",
   "metadata": {},
   "source": [
    "# MLPClassifier"
   ]
  },
  {
   "cell_type": "code",
   "execution_count": 17,
   "metadata": {},
   "outputs": [
    {
     "name": "stdout",
     "output_type": "stream",
     "text": [
      "SGD\n",
      "0.9478947894789479\n"
     ]
    }
   ],
   "source": [
    "#SGD\n",
    "model4 = MLPClassifier(solver = 'sgd',hidden_layer_sizes=(100),random_state=1)\n",
    "model4.fit(train_df_x,train_df_y)\n",
    "output4=model4.predict(test_df_x)\n",
    "print(\"SGD\")\n",
    "print(accuracy_score(test_df_y,output4))"
   ]
  },
  {
   "cell_type": "code",
   "execution_count": 30,
   "metadata": {},
   "outputs": [
    {
     "name": "stdout",
     "output_type": "stream",
     "text": [
      "ADAM\n",
      "0.9478947894789479\n"
     ]
    }
   ],
   "source": [
    "#ADAM\n",
    "model5 = MLPClassifier(solver = 'adam',hidden_layer_sizes=(100),random_state=1)\n",
    "model5.fit(train_df_x,train_df_y)\n",
    "output5=model4.predict(test_df_x)\n",
    "print(\"ADAM\")\n",
    "print(accuracy_score(test_df_y,output5))"
   ]
  },
  {
   "cell_type": "code",
   "execution_count": 29,
   "metadata": {},
   "outputs": [
    {
     "name": "stdout",
     "output_type": "stream",
     "text": [
      "Saved forest_output file\n"
     ]
    }
   ],
   "source": [
    "import csv\n",
    "final_output=output1\n",
    "predictions_file = open(\"forest_output.csv\",\"w\")\n",
    "open_file_object=csv.writer(predictions_file)\n",
    "ids=range(output1.__len__())\n",
    "ids = [x+1 for x in ids]\n",
    "open_file_object.writerow([\"ImageId\",\"Label\"])\n",
    "open_file_object.writerow(zip(ids,final_output))\n",
    "predictions_file.close()\n",
    "print(\"Saved forest_output file\")"
   ]
  },
  {
   "cell_type": "code",
   "execution_count": 31,
   "metadata": {},
   "outputs": [],
   "source": [
    "#weight, bias\n",
    "import pickle\n",
    "filename = 'randomforest_model.plk'\n",
    "pickle.dump(model1,open(filename,'wb'))\n",
    "#model1 = pickle.load(open(filename,'rb'))"
   ]
  }
 ],
 "metadata": {
  "kernelspec": {
   "display_name": "Python 3",
   "language": "python",
   "name": "python3"
  },
  "language_info": {
   "codemirror_mode": {
    "name": "ipython",
    "version": 3
   },
   "file_extension": ".py",
   "mimetype": "text/x-python",
   "name": "python",
   "nbconvert_exporter": "python",
   "pygments_lexer": "ipython3",
   "version": "3.8.3"
  }
 },
 "nbformat": 4,
 "nbformat_minor": 4
}
